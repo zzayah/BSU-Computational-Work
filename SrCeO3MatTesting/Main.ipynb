{
 "cells": [
  {
   "cell_type": "code",
   "execution_count": 1,
   "metadata": {},
   "outputs": [],
   "source": [
    "from ase import io\n",
    "from ase.visualize import view\n",
    "from ase.build import make_supercell\n",
    "\n",
    "# Specify the path to your CIF file\n",
    "cif_file = r'C:\\Users\\zayah\\OneDrive\\Desktop\\SEEDworks\\SrCeO3MatTesting\\SrCeO3.cif'\n",
    "\n",
    "# Read the CIF file\n",
    "atoms = io.read(cif_file)\n",
    "\n",
    "# Create a supercell with desired replication\n",
    "supercell = make_supercell(atoms, [[2, 0, 0], [0, 2, 0], [0, 0, 2]])"
   ]
  },
  {
   "cell_type": "code",
   "execution_count": 5,
   "metadata": {},
   "outputs": [
    {
     "data": {
      "text/plain": [
       "<Popen: returncode: None args: ['c:\\\\Users\\\\zayah\\\\OneDrive\\\\Desktop\\\\SEEDwo...>"
      ]
     },
     "execution_count": 5,
     "metadata": {},
     "output_type": "execute_result"
    }
   ],
   "source": [
    "from ase.build import surface\n",
    "from ase.io import write\n",
    "surface_atoms = surface(supercell, (0, 1, 0), 1, vacuum=10.)\n",
    "view(surface_atoms)"
   ]
  },
  {
   "cell_type": "code",
   "execution_count": 13,
   "metadata": {},
   "outputs": [
    {
     "data": {
      "text/plain": [
       "<Popen: returncode: None args: ['c:\\\\Users\\\\zayah\\\\OneDrive\\\\Desktop\\\\SEEDwo...>"
      ]
     },
     "execution_count": 13,
     "metadata": {},
     "output_type": "execute_result"
    }
   ],
   "source": [
    "generalModelCif = 'SrCeO3GeneralModel.cif'\n",
    "generalModel = io.read(generalModelCif)\n",
    "view(generalModel)"
   ]
  },
  {
   "cell_type": "code",
   "execution_count": 10,
   "metadata": {},
   "outputs": [
    {
     "data": {
      "text/plain": [
       "<Popen: returncode: None args: ['c:\\\\Users\\\\zayah\\\\OneDrive\\\\Desktop\\\\SEEDwo...>"
      ]
     },
     "execution_count": 10,
     "metadata": {},
     "output_type": "execute_result"
    }
   ],
   "source": [
    "BSiteUp = 'SrCeO3BSiteOptimized.cif'\n",
    "BSiteUp = io.read(BSiteUp)\n",
    "view(BSiteUp)"
   ]
  },
  {
   "cell_type": "code",
   "execution_count": 12,
   "metadata": {},
   "outputs": [
    {
     "data": {
      "text/plain": [
       "<Popen: returncode: None args: ['c:\\\\Users\\\\zayah\\\\OneDrive\\\\Desktop\\\\SEEDwo...>"
      ]
     },
     "execution_count": 12,
     "metadata": {},
     "output_type": "execute_result"
    }
   ],
   "source": [
    "ASiteUp = 'SrCeO3ASiteOptimized.cif'\n",
    "ASiteUp = io.read(ASiteUp)\n",
    "view(ASiteUp)"
   ]
  }
 ],
 "metadata": {
  "kernelspec": {
   "display_name": ".venv",
   "language": "python",
   "name": "python3"
  },
  "language_info": {
   "codemirror_mode": {
    "name": "ipython",
    "version": 3
   },
   "file_extension": ".py",
   "mimetype": "text/x-python",
   "name": "python",
   "nbconvert_exporter": "python",
   "pygments_lexer": "ipython3",
   "version": "3.11.3"
  },
  "orig_nbformat": 4
 },
 "nbformat": 4,
 "nbformat_minor": 2
}
