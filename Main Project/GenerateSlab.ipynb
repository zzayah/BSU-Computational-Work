{
 "cells": [
  {
   "cell_type": "code",
   "execution_count": 1,
   "metadata": {},
   "outputs": [
    {
     "name": "stdout",
     "output_type": "stream",
     "text": [
      "                Step[ FC]     Time          Energy          fmax\n",
      "*Force-consistent energies used in optimization.\n",
      "BFGSLineSearch:    0[  0] 11:00:43       10.963124*       3.5765\n",
      "BFGSLineSearch:    1[  1] 11:00:43       10.776618*       4.6159\n",
      "BFGSLineSearch:    2[  2] 11:00:43       10.435512*       0.2137\n",
      "BFGSLineSearch:    3[  4] 11:00:43       10.423175*       0.3909\n",
      "BFGSLineSearch:    4[  6] 11:00:43       10.419027*       0.0649\n",
      "BFGSLineSearch:    5[  7] 11:00:44       10.418852*       0.0134\n",
      "Adsorption energy: 0.33447491637888227\n"
     ]
    },
    {
     "data": {
      "text/plain": [
       "<Popen: returncode: None args: ['c:\\\\Users\\\\zayah\\\\OneDrive\\\\Desktop\\\\SEEDwo...>"
      ]
     },
     "execution_count": 1,
     "metadata": {},
     "output_type": "execute_result"
    }
   ],
   "source": [
    "from ase import Atoms\n",
    "from ase.calculators.emt import EMT\n",
    "from ase.constraints import FixAtoms\n",
    "from ase.optimize import QuasiNewton\n",
    "from ase.visualize import view\n",
    "from ase.build import fcc111, add_adsorbate\n",
    "\n",
    "h = 1.85\n",
    "d = 1.10\n",
    "\n",
    "slab = fcc111('Pt', size=(4, 4, 2), vacuum=10.0)\n",
    "\n",
    "slab.calc = EMT()\n",
    "e_slab = slab.get_potential_energy()\n",
    "\n",
    "molecule = Atoms('2N', positions=[(0., 0., 0.), (0., 0., d)])\n",
    "molecule.calc = EMT()\n",
    "e_N2 = molecule.get_potential_energy()\n",
    "\n",
    "add_adsorbate(slab, molecule, h, 'ontop')\n",
    "constraint = FixAtoms(mask=[a.symbol != 'N' for a in slab])\n",
    "slab.set_constraint(constraint)\n",
    "dyn = QuasiNewton(slab, trajectory='N2Pt.traj')\n",
    "dyn.run(fmax=0.05)\n",
    "\n",
    "print('Adsorption energy:', e_slab + e_N2 - slab.get_potential_energy())\n",
    "\n",
    "view(slab)\n"
   ]
  },
  {
   "cell_type": "code",
   "execution_count": 1,
   "metadata": {},
   "outputs": [
    {
     "name": "stdout",
     "output_type": "stream",
     "text": [
      "                Step[ FC]     Time          Energy          fmax\n",
      "*Force-consistent energies used in optimization.\n",
      "BFGSLineSearch:    0[  0] 09:36:25       10.234999*       2.0318\n",
      "BFGSLineSearch:    1[  2] 09:36:26       10.166680*       0.0142\n"
     ]
    },
    {
     "ename": "FileNotFoundError",
     "evalue": "[Errno 2] No such file or directory: 'Pt.traj'",
     "output_type": "error",
     "traceback": [
      "\u001b[1;31m---------------------------------------------------------------------------\u001b[0m",
      "\u001b[1;31mFileNotFoundError\u001b[0m                         Traceback (most recent call last)",
      "Cell \u001b[1;32mIn[1], line 41\u001b[0m\n\u001b[0;32m     38\u001b[0m atoms\u001b[39m.\u001b[39mset_calculator(EMT())\n\u001b[0;32m     39\u001b[0m e1 \u001b[39m=\u001b[39m atoms\u001b[39m.\u001b[39mget_potential_energy()\n\u001b[1;32m---> 41\u001b[0m atoms \u001b[39m=\u001b[39m read(\u001b[39m'\u001b[39;49m\u001b[39mPt.traj\u001b[39;49m\u001b[39m'\u001b[39;49m)\n\u001b[0;32m     42\u001b[0m atoms\u001b[39m.\u001b[39mset_calculator(EMT())\n\u001b[0;32m     43\u001b[0m e2 \u001b[39m=\u001b[39m atoms\u001b[39m.\u001b[39mget_potential_energy()\n",
      "File \u001b[1;32mc:\\Users\\zayah\\OneDrive\\Desktop\\SEEDworks\\Main Project\\.venv\\Lib\\site-packages\\ase\\io\\formats.py:729\u001b[0m, in \u001b[0;36mread\u001b[1;34m(filename, index, format, parallel, do_not_split_by_at_sign, **kwargs)\u001b[0m\n\u001b[0;32m    727\u001b[0m \u001b[39mif\u001b[39;00m index \u001b[39mis\u001b[39;00m \u001b[39mNone\u001b[39;00m:\n\u001b[0;32m    728\u001b[0m     index \u001b[39m=\u001b[39m \u001b[39m-\u001b[39m\u001b[39m1\u001b[39m\n\u001b[1;32m--> 729\u001b[0m \u001b[39mformat\u001b[39m \u001b[39m=\u001b[39m \u001b[39mformat\u001b[39m \u001b[39mor\u001b[39;00m filetype(filename, read\u001b[39m=\u001b[39;49m\u001b[39misinstance\u001b[39;49m(filename, \u001b[39mstr\u001b[39;49m))\n\u001b[0;32m    731\u001b[0m io \u001b[39m=\u001b[39m get_ioformat(\u001b[39mformat\u001b[39m)\n\u001b[0;32m    732\u001b[0m \u001b[39mif\u001b[39;00m \u001b[39misinstance\u001b[39m(index, (\u001b[39mslice\u001b[39m, \u001b[39mstr\u001b[39m)):\n",
      "File \u001b[1;32mc:\\Users\\zayah\\OneDrive\\Desktop\\SEEDworks\\Main Project\\.venv\\Lib\\site-packages\\ase\\io\\formats.py:920\u001b[0m, in \u001b[0;36mfiletype\u001b[1;34m(filename, read, guess)\u001b[0m\n\u001b[0;32m    917\u001b[0m     \u001b[39mreturn\u001b[39;00m ext\n\u001b[0;32m    919\u001b[0m \u001b[39mif\u001b[39;00m orig_filename \u001b[39m==\u001b[39m filename:\n\u001b[1;32m--> 920\u001b[0m     fd \u001b[39m=\u001b[39m open_with_compression(filename, \u001b[39m'\u001b[39;49m\u001b[39mrb\u001b[39;49m\u001b[39m'\u001b[39;49m)\n\u001b[0;32m    921\u001b[0m \u001b[39melse\u001b[39;00m:\n\u001b[0;32m    922\u001b[0m     fd \u001b[39m=\u001b[39m orig_filename  \u001b[39m# type: ignore\u001b[39;00m\n",
      "File \u001b[1;32mc:\\Users\\zayah\\OneDrive\\Desktop\\SEEDworks\\Main Project\\.venv\\Lib\\site-packages\\ase\\io\\formats.py:551\u001b[0m, in \u001b[0;36mopen_with_compression\u001b[1;34m(filename, mode)\u001b[0m\n\u001b[0;32m    548\u001b[0m     \u001b[39mreturn\u001b[39;00m lzma\u001b[39m.\u001b[39mopen(filename, mode)\n\u001b[0;32m    549\u001b[0m \u001b[39melse\u001b[39;00m:\n\u001b[0;32m    550\u001b[0m     \u001b[39m# Either None or unknown string\u001b[39;00m\n\u001b[1;32m--> 551\u001b[0m     \u001b[39mreturn\u001b[39;00m \u001b[39mopen\u001b[39;49m(filename, mode)\n",
      "\u001b[1;31mFileNotFoundError\u001b[0m: [Errno 2] No such file or directory: 'Pt.traj'"
     ]
    }
   ],
   "source": [
    "# write a script to generate a slab of pt 111 surface with 4 layers and 4x4 unit cells\n",
    "# add a N2 molecule on top of the slab\n",
    "# optimize the structure\n",
    "# calculate the adsorption energy\n",
    "from ase import Atoms\n",
    "from ase.calculators.emt import EMT\n",
    "from ase.constraints import FixAtoms\n",
    "from ase.optimize import QuasiNewton\n",
    "from ase.visualize import view\n",
    "from ase.build import fcc111, add_adsorbate\n",
    "\n",
    "h = 1.85\n",
    "d = 1.10\n",
    "\n",
    "slab = fcc111('Pt', size=(4, 4, 4), vacuum=10.0)\n",
    "slab.center(axis=2, vacuum=10.0)\n",
    "add_adsorbate(slab, 'N', h, 'ontop')\n",
    "constraint = FixAtoms(mask=[a.symbol != 'N' for a in slab])\n",
    "slab.set_constraint(constraint)\n",
    "slab.set_calculator(EMT())\n",
    "dyn = QuasiNewton(slab, trajectory='N2Pt.traj')\n",
    "dyn.run(fmax=0.05)\n",
    "\n",
    "# view(slab)\n",
    "\n",
    "# calculate the adsorption energy\n",
    "from ase.io import read\n",
    "from ase.units import kJ\n",
    "from ase.eos import EquationOfState\n",
    "from ase.io.trajectory import Trajectory\n",
    "from ase.io import read\n",
    "from ase.units import kJ\n",
    "from ase.eos import EquationOfState\n",
    "from ase.io.trajectory import Trajectory\n",
    "\n",
    "traj = Trajectory('N2Pt.traj')\n",
    "atoms = traj[-1]\n",
    "atoms.set_calculator(EMT())\n",
    "e1 = atoms.get_potential_energy()\n",
    "\n",
    "atoms = read('Pt.traj')\n",
    "atoms.set_calculator(EMT())\n",
    "e2 = atoms.get_potential_energy()\n",
    "\n",
    "atoms = read('N2.traj')\n",
    "atoms.set_calculator(EMT())\n",
    "e3 = atoms.get_potential_energy()\n",
    "\n",
    "e_ads = e1 - e2 - e3\n",
    "print('Adsorption energy: %.2f eV' % e_ads)\n",
    "print('Adsorption energy: %.2f kJ/mol' % (e_ads / 2 * kJ))\n",
    "\n",
    "# Path: GenerateSlab.ipynb\n"
   ]
  },
  {
   "cell_type": "code",
   "execution_count": null,
   "metadata": {},
   "outputs": [],
   "source": []
  }
 ],
 "metadata": {
  "kernelspec": {
   "display_name": ".venv",
   "language": "python",
   "name": "python3"
  },
  "language_info": {
   "codemirror_mode": {
    "name": "ipython",
    "version": 3
   },
   "file_extension": ".py",
   "mimetype": "text/x-python",
   "name": "python",
   "nbconvert_exporter": "python",
   "pygments_lexer": "ipython3",
   "version": "3.11.3"
  },
  "orig_nbformat": 4
 },
 "nbformat": 4,
 "nbformat_minor": 2
}
