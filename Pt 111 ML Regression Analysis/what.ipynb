{
 "cells": [
  {
   "cell_type": "code",
   "execution_count": 4,
   "metadata": {},
   "outputs": [
    {
     "data": {
      "text/plain": [
       "<Popen: returncode: None args: ['c:\\\\Users\\\\zayah\\\\OneDrive\\\\Desktop\\\\SEEDwo...>"
      ]
     },
     "execution_count": 4,
     "metadata": {},
     "output_type": "execute_result"
    }
   ],
   "source": [
    "from ase.build import surface\n",
    "from ase.io import write\n",
    "from ase import io\n",
    "from ase.visualize import view\n",
    "from ase.build import make_supercell\n",
    "\n",
    "# Specify the path to your CIF file\n",
    "cif_file = \"SrCeO3.cif\"\n",
    "# Read the CIF file\n",
    "atoms = io.read(cif_file)\n",
    "\n",
    "supercell = make_supercell(atoms, [[2, 0, 0], [0, 2, 0], [0, 0, 6]])\n",
    "surface_atoms = surface(supercell, (0, 0, 1), 1, vacuum=10.)\n",
    "view(surface_atoms)"
   ]
  }
 ],
 "metadata": {
  "kernelspec": {
   "display_name": ".venv",
   "language": "python",
   "name": "python3"
  },
  "language_info": {
   "codemirror_mode": {
    "name": "ipython",
    "version": 3
   },
   "file_extension": ".py",
   "mimetype": "text/x-python",
   "name": "python",
   "nbconvert_exporter": "python",
   "pygments_lexer": "ipython3",
   "version": "3.11.3"
  },
  "orig_nbformat": 4
 },
 "nbformat": 4,
 "nbformat_minor": 2
}
