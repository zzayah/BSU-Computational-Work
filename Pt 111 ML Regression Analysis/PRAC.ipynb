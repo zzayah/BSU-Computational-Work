{
 "cells": [
  {
   "attachments": {},
   "cell_type": "markdown",
   "metadata": {},
   "source": [
    "Polynomial Regression and Clustering"
   ]
  },
  {
   "cell_type": "code",
   "execution_count": 7,
   "metadata": {},
   "outputs": [],
   "source": [
    "# import libraries\n",
    "import pandas as pd\n",
    "import matplotlib.pyplot as plt\n",
    "import numpy as np\n",
    "from sklearn.preprocessing import PolynomialFeatures\n",
    "from sklearn.linear_model import LinearRegression\n",
    "from sklearn.linear_model import Ridge\n",
    "from sklearn.cluster import KMeans\n",
    "from sklearn.linear_model import Lasso\n",
    "from sklearn.preprocessing import StandardScaler\n",
    "from sklearn.model_selection import train_test_split"
   ]
  },
  {
   "cell_type": "code",
   "execution_count": 8,
   "metadata": {},
   "outputs": [],
   "source": [
    "# making pandas dataframe\n",
    "original_df = pd.read_csv('data.csv')"
   ]
  },
  {
   "cell_type": "code",
   "execution_count": 9,
   "metadata": {},
   "outputs": [
    {
     "name": "stderr",
     "output_type": "stream",
     "text": [
      "/var/folders/60/s532ps5903l0qsmpztm3mhj80000gn/T/ipykernel_59048/142048656.py:9: SettingWithCopyWarning: \n",
      "A value is trying to be set on a copy of a slice from a DataFrame.\n",
      "Try using .loc[row_indexer,col_indexer] = value instead\n",
      "\n",
      "See the caveats in the documentation: https://pandas.pydata.org/pandas-docs/stable/user_guide/indexing.html#returning-a-view-versus-a-copy\n",
      "  normalized_df[column] = (normalized_df[column] - min_val) / (max_val - min_val)\n"
     ]
    },
    {
     "data": {
      "text/html": [
       "<div>\n",
       "<style scoped>\n",
       "    .dataframe tbody tr th:only-of-type {\n",
       "        vertical-align: middle;\n",
       "    }\n",
       "\n",
       "    .dataframe tbody tr th {\n",
       "        vertical-align: top;\n",
       "    }\n",
       "\n",
       "    .dataframe thead th {\n",
       "        text-align: right;\n",
       "    }\n",
       "</style>\n",
       "<table border=\"1\" class=\"dataframe\">\n",
       "  <thead>\n",
       "    <tr style=\"text-align: right;\">\n",
       "      <th></th>\n",
       "      <th>G3-2 R_cut = 8</th>\n",
       "      <th>G3-2 R_cut = 9</th>\n",
       "      <th>G3-2 R_cut = 7</th>\n",
       "      <th>G3-2 R_cut = 10</th>\n",
       "      <th>G3-1 R_cut = 7</th>\n",
       "    </tr>\n",
       "  </thead>\n",
       "  <tbody>\n",
       "    <tr>\n",
       "      <th>0</th>\n",
       "      <td>1.252691e-16</td>\n",
       "      <td>0.000000e+00</td>\n",
       "      <td>0.000000e+00</td>\n",
       "      <td>1.224182e-16</td>\n",
       "      <td>1.000000</td>\n",
       "    </tr>\n",
       "    <tr>\n",
       "      <th>1</th>\n",
       "      <td>6.419210e-01</td>\n",
       "      <td>6.397179e-01</td>\n",
       "      <td>5.949944e-01</td>\n",
       "      <td>6.074495e-01</td>\n",
       "      <td>0.365642</td>\n",
       "    </tr>\n",
       "    <tr>\n",
       "      <th>2</th>\n",
       "      <td>9.727670e-01</td>\n",
       "      <td>8.788642e-01</td>\n",
       "      <td>1.000000e+00</td>\n",
       "      <td>7.428985e-01</td>\n",
       "      <td>0.236012</td>\n",
       "    </tr>\n",
       "    <tr>\n",
       "      <th>3</th>\n",
       "      <td>8.876836e-01</td>\n",
       "      <td>8.421444e-01</td>\n",
       "      <td>8.742817e-01</td>\n",
       "      <td>7.590916e-01</td>\n",
       "      <td>0.214211</td>\n",
       "    </tr>\n",
       "    <tr>\n",
       "      <th>4</th>\n",
       "      <td>3.077067e-01</td>\n",
       "      <td>3.245302e-01</td>\n",
       "      <td>2.608861e-01</td>\n",
       "      <td>3.237935e-01</td>\n",
       "      <td>0.644513</td>\n",
       "    </tr>\n",
       "    <tr>\n",
       "      <th>...</th>\n",
       "      <td>...</td>\n",
       "      <td>...</td>\n",
       "      <td>...</td>\n",
       "      <td>...</td>\n",
       "      <td>...</td>\n",
       "    </tr>\n",
       "    <tr>\n",
       "      <th>95</th>\n",
       "      <td>3.077067e-01</td>\n",
       "      <td>3.245302e-01</td>\n",
       "      <td>2.608861e-01</td>\n",
       "      <td>3.237935e-01</td>\n",
       "      <td>0.644513</td>\n",
       "    </tr>\n",
       "    <tr>\n",
       "      <th>96</th>\n",
       "      <td>8.876836e-01</td>\n",
       "      <td>8.421444e-01</td>\n",
       "      <td>8.742817e-01</td>\n",
       "      <td>7.590916e-01</td>\n",
       "      <td>0.214211</td>\n",
       "    </tr>\n",
       "    <tr>\n",
       "      <th>97</th>\n",
       "      <td>9.727670e-01</td>\n",
       "      <td>8.788642e-01</td>\n",
       "      <td>1.000000e+00</td>\n",
       "      <td>7.428985e-01</td>\n",
       "      <td>0.236012</td>\n",
       "    </tr>\n",
       "    <tr>\n",
       "      <th>98</th>\n",
       "      <td>6.419210e-01</td>\n",
       "      <td>6.397179e-01</td>\n",
       "      <td>5.949944e-01</td>\n",
       "      <td>6.074495e-01</td>\n",
       "      <td>0.365642</td>\n",
       "    </tr>\n",
       "    <tr>\n",
       "      <th>99</th>\n",
       "      <td>4.473895e-16</td>\n",
       "      <td>7.752700e-16</td>\n",
       "      <td>5.196133e-16</td>\n",
       "      <td>5.071612e-16</td>\n",
       "      <td>1.000000</td>\n",
       "    </tr>\n",
       "  </tbody>\n",
       "</table>\n",
       "<p>100 rows × 5 columns</p>\n",
       "</div>"
      ],
      "text/plain": [
       "    G3-2 R_cut = 8  G3-2 R_cut = 9  G3-2 R_cut = 7  G3-2 R_cut = 10  \\\n",
       "0     1.252691e-16    0.000000e+00    0.000000e+00     1.224182e-16   \n",
       "1     6.419210e-01    6.397179e-01    5.949944e-01     6.074495e-01   \n",
       "2     9.727670e-01    8.788642e-01    1.000000e+00     7.428985e-01   \n",
       "3     8.876836e-01    8.421444e-01    8.742817e-01     7.590916e-01   \n",
       "4     3.077067e-01    3.245302e-01    2.608861e-01     3.237935e-01   \n",
       "..             ...             ...             ...              ...   \n",
       "95    3.077067e-01    3.245302e-01    2.608861e-01     3.237935e-01   \n",
       "96    8.876836e-01    8.421444e-01    8.742817e-01     7.590916e-01   \n",
       "97    9.727670e-01    8.788642e-01    1.000000e+00     7.428985e-01   \n",
       "98    6.419210e-01    6.397179e-01    5.949944e-01     6.074495e-01   \n",
       "99    4.473895e-16    7.752700e-16    5.196133e-16     5.071612e-16   \n",
       "\n",
       "    G3-1 R_cut = 7  \n",
       "0         1.000000  \n",
       "1         0.365642  \n",
       "2         0.236012  \n",
       "3         0.214211  \n",
       "4         0.644513  \n",
       "..             ...  \n",
       "95        0.644513  \n",
       "96        0.214211  \n",
       "97        0.236012  \n",
       "98        0.365642  \n",
       "99        1.000000  \n",
       "\n",
       "[100 rows x 5 columns]"
      ]
     },
     "execution_count": 9,
     "metadata": {},
     "output_type": "execute_result"
    }
   ],
   "source": [
    "# creates a new dataframe with the selected columns\n",
    "selected_columns = ['G3-2 R_cut = 8', 'G3-2 R_cut = 9', 'G3-2 R_cut = 7', 'G3-2 R_cut = 10', 'G3-1 R_cut = 7']\n",
    "normalized_df = original_df[selected_columns]\n",
    "\n",
    "# normalizes the values in the new dataframe\n",
    "for column in selected_columns:\n",
    "    min_val = np.min(normalized_df[column])\n",
    "    max_val = np.max(normalized_df[column])\n",
    "    normalized_df[column] = (normalized_df[column] - min_val) / (max_val - min_val)\n",
    "\n",
    "normalized_df"
   ]
  },
  {
   "attachments": {},
   "cell_type": "markdown",
   "metadata": {},
   "source": [
    "# Polynomial Regression"
   ]
  },
  {
   "cell_type": "code",
   "execution_count": 20,
   "metadata": {},
   "outputs": [],
   "source": [
    "import numpy as np\n",
    "import matplotlib.pyplot as plt\n",
    "from sklearn.model_selection import train_test_split\n",
    "from sklearn.preprocessing import PolynomialFeatures\n",
    "from sklearn.linear_model import Ridge\n",
    "from sklearn.metrics import mean_absolute_error, mean_squared_error\n",
    "\n",
    "X = normalized_df\n",
    "y = original_df['SCFshift']\n",
    "\n",
    "_degree = 5\n",
    "algorithm = 'ridge_regression'\n",
    "\n",
    "n = len(X)\n",
    "train_sizes = range(1, n)\n",
    "mae_scores = []\n",
    "mse_scores = []\n",
    "\n",
    "for train_size in train_sizes:\n",
    "    random_state = 42 \n",
    "    X_train, X_test, y_train, y_test = train_test_split(X, y, train_size=train_size, random_state=random_state)\n",
    "\n",
    "    poly_features = PolynomialFeatures(degree=_degree)\n",
    "    X_train_poly = poly_features.fit_transform(X_train)\n",
    "    X_test_poly = poly_features.transform(X_test)\n",
    "\n",
    "    ridge_regression_model = LinearRegression()  # Regularization to prevent overfitting\n",
    "    ridge_regression_model.fit(X_train_poly, y_train)\n",
    "\n",
    "    y_pred = ridge_regression_model.predict(X_test_poly)\n",
    "\n",
    "    mae_score = mean_absolute_error(y_test, y_pred)\n",
    "    mse_score = mean_squared_error(y_test, y_pred)\n",
    "    \n",
    "    mae_scores.append(mae_score)\n",
    "    mse_scores.append(mse_score)"
   ]
  },
  {
   "cell_type": "code",
   "execution_count": 21,
   "metadata": {},
   "outputs": [
    {
     "data": {
      "image/png": "[encoded data removed]",
      "text/plain": [
       "<Figure size 640x480 with 1 Axes>"
      ]
     },
     "metadata": {},
     "output_type": "display_data"
    }
   ],
   "source": [
    "\n",
    "plt.plot(list(train_sizes), mae_scores, label='MAE')\n",
    "# plt.plot(list(train_sizes), mse_scores, label='MSE')\n",
    "plt.xlabel('Train Size')\n",
    "plt.ylabel('Error (Rydberg)')\n",
    "plt.title('MAE and MSE vs. Train Size')\n",
    "plt.legend()\n",
    "plt.show()"
   ]
  },
  {
   "attachments": {},
   "cell_type": "markdown",
   "metadata": {},
   "source": [
    "# Lasso Regression"
   ]
  },
  {
   "cell_type": "code",
   "execution_count": 12,
   "metadata": {},
   "outputs": [
    {
     "data": {
      "text/html": [
       "<style>#sk-container-id-1 {color: black;background-color: white;}#sk-container-id-1 pre{padding: 0;}#sk-container-id-1 div.sk-toggleable {background-color: white;}#sk-container-id-1 label.sk-toggleable__label {cursor: pointer;display: block;width: 100%;margin-bottom: 0;padding: 0.3em;box-sizing: border-box;text-align: center;}#sk-container-id-1 label.sk-toggleable__label-arrow:before {content: \"▸\";float: left;margin-right: 0.25em;color: #696969;}#sk-container-id-1 label.sk-toggleable__label-arrow:hover:before {color: black;}#sk-container-id-1 div.sk-estimator:hover label.sk-toggleable__label-arrow:before {color: black;}#sk-container-id-1 div.sk-toggleable__content {max-height: 0;max-width: 0;overflow: hidden;text-align: left;background-color: #f0f8ff;}#sk-container-id-1 div.sk-toggleable__content pre {margin: 0.2em;color: black;border-radius: 0.25em;background-color: #f0f8ff;}#sk-container-id-1 input.sk-toggleable__control:checked~div.sk-toggleable__content {max-height: 200px;max-width: 100%;overflow: auto;}#sk-container-id-1 input.sk-toggleable__control:checked~label.sk-toggleable__label-arrow:before {content: \"▾\";}#sk-container-id-1 div.sk-estimator input.sk-toggleable__control:checked~label.sk-toggleable__label {background-color: #d4ebff;}#sk-container-id-1 div.sk-label input.sk-toggleable__control:checked~label.sk-toggleable__label {background-color: #d4ebff;}#sk-container-id-1 input.sk-hidden--visually {border: 0;clip: rect(1px 1px 1px 1px);clip: rect(1px, 1px, 1px, 1px);height: 1px;margin: -1px;overflow: hidden;padding: 0;position: absolute;width: 1px;}#sk-container-id-1 div.sk-estimator {font-family: monospace;background-color: #f0f8ff;border: 1px dotted black;border-radius: 0.25em;box-sizing: border-box;margin-bottom: 0.5em;}#sk-container-id-1 div.sk-estimator:hover {background-color: #d4ebff;}#sk-container-id-1 div.sk-parallel-item::after {content: \"\";width: 100%;border-bottom: 1px solid gray;flex-grow: 1;}#sk-container-id-1 div.sk-label:hover label.sk-toggleable__label {background-color: #d4ebff;}#sk-container-id-1 div.sk-serial::before {content: \"\";position: absolute;border-left: 1px solid gray;box-sizing: border-box;top: 0;bottom: 0;left: 50%;z-index: 0;}#sk-container-id-1 div.sk-serial {display: flex;flex-direction: column;align-items: center;background-color: white;padding-right: 0.2em;padding-left: 0.2em;position: relative;}#sk-container-id-1 div.sk-item {position: relative;z-index: 1;}#sk-container-id-1 div.sk-parallel {display: flex;align-items: stretch;justify-content: center;background-color: white;position: relative;}#sk-container-id-1 div.sk-item::before, #sk-container-id-1 div.sk-parallel-item::before {content: \"\";position: absolute;border-left: 1px solid gray;box-sizing: border-box;top: 0;bottom: 0;left: 50%;z-index: -1;}#sk-container-id-1 div.sk-parallel-item {display: flex;flex-direction: column;z-index: 1;position: relative;background-color: white;}#sk-container-id-1 div.sk-parallel-item:first-child::after {align-self: flex-end;width: 50%;}#sk-container-id-1 div.sk-parallel-item:last-child::after {align-self: flex-start;width: 50%;}#sk-container-id-1 div.sk-parallel-item:only-child::after {width: 0;}#sk-container-id-1 div.sk-dashed-wrapped {border: 1px dashed gray;margin: 0 0.4em 0.5em 0.4em;box-sizing: border-box;padding-bottom: 0.4em;background-color: white;}#sk-container-id-1 div.sk-label label {font-family: monospace;font-weight: bold;display: inline-block;line-height: 1.2em;}#sk-container-id-1 div.sk-label-container {text-align: center;}#sk-container-id-1 div.sk-container {/* jupyter's `normalize.less` sets `[hidden] { display: none; }` but bootstrap.min.css set `[hidden] { display: none !important; }` so we also need the `!important` here to be able to override the default hidden behavior on the sphinx rendered scikit-learn.org. See: https://github.com/scikit-learn/scikit-learn/issues/21755 */display: inline-block !important;position: relative;}#sk-container-id-1 div.sk-text-repr-fallback {display: none;}</style><div id=\"sk-container-id-1\" class=\"sk-top-container\"><div class=\"sk-text-repr-fallback\"><pre>Lasso(alpha=1)</pre><b>In a Jupyter environment, please rerun this cell to show the HTML representation or trust the notebook. <br />On GitHub, the HTML representation is unable to render, please try loading this page with nbviewer.org.</b></div><div class=\"sk-container\" hidden><div class=\"sk-item\"><div class=\"sk-estimator sk-toggleable\"><input class=\"sk-toggleable__control sk-hidden--visually\" id=\"sk-estimator-id-1\" type=\"checkbox\" checked><label for=\"sk-estimator-id-1\" class=\"sk-toggleable__label sk-toggleable__label-arrow\">Lasso</label><div class=\"sk-toggleable__content\"><pre>Lasso(alpha=1)</pre></div></div></div></div></div>"
      ],
      "text/plain": [
       "Lasso(alpha=1)"
      ]
     },
     "execution_count": 12,
     "metadata": {},
     "output_type": "execute_result"
    }
   ],
   "source": [
    "lasso_X_vector_df = normalized_df\n",
    "\n",
    "lasso_y_vector_df = original_df['SCFshift']\n",
    "\n",
    "lasso_reg = Lasso(alpha=1)\n",
    "\n",
    "lasso_reg.fit(X_lasso_train, y_lasso_train)"
   ]
  },
  {
   "attachments": {},
   "cell_type": "markdown",
   "metadata": {},
   "source": [
    "# Clustering"
   ]
  },
  {
   "cell_type": "code",
   "execution_count": 13,
   "metadata": {},
   "outputs": [],
   "source": [
    "import warnings\n",
    "warnings.filterwarnings(\"ignore\")"
   ]
  },
  {
   "cell_type": "code",
   "execution_count": 14,
   "metadata": {},
   "outputs": [],
   "source": [
    "def calculate_clusters(df, n_clusters):\n",
    "    points = df.values\n",
    "    kmeans = KMeans(n_clusters=n_clusters)\n",
    "    labels = kmeans.fit_predict(points)\n",
    "    centroids = kmeans.cluster_centers_\n",
    "    return labels, points, centroids, kmeans"
   ]
  },
  {
   "cell_type": "code",
   "execution_count": 15,
   "metadata": {},
   "outputs": [],
   "source": [
    "def regression_model(X_vector, y_value, _degree):\n",
    "    # training our model on our cluster centroids and their corresponding SCFshift values\n",
    "    X_train = X_vector\n",
    "    y_train = y_value\n",
    "    \n",
    "    X_test = normalized_df[~normalized_df.isin(X_train)].dropna()\n",
    "    y_test = original_df['SCFshift'].to_frame()[~original_df['SCFshift'].to_frame().isin(y_train)].dropna()\n",
    "    \n",
    "    # Create polynomial features\n",
    "    poly_features = PolynomialFeatures(degree=_degree)\n",
    "    X_train_poly = poly_features.fit_transform(X_train)\n",
    "    X_test_poly = poly_features.transform(X_test)\n",
    "\n",
    "    # Create and train the polynomial regression model\n",
    "    poly_regression_model = LinearRegression()\n",
    "    poly_regression_model.fit(X_train_poly, y_train)\n",
    "\n",
    "    # Generate predictions for the test dataset\n",
    "    y_pred = poly_regression_model.predict(X_test_poly)\n",
    "\n",
    "    # Calculate reliability score (R-squared)\n",
    "    mean_error = mean_absolute_error(y_test, y_pred)\n",
    "\n",
    "    # Print the results\n",
    "    return mean_error\n"
   ]
  },
  {
   "cell_type": "code",
   "execution_count": 16,
   "metadata": {},
   "outputs": [],
   "source": [
    "# Initialize lists to store cluster values and corresponding errors\n",
    "cluster_values = []\n",
    "mae_values = []\n",
    "mse_values = []\n",
    "\n",
    "# Iterate over different values of the number of clusters\n",
    "for num_clusters in range(2, 16):\n",
    "    labels, points, centroids, kmeans = calculate_clusters(normalized_df, num_clusters)\n",
    "\n",
    "    # Get the indices of the closest points to the centroids\n",
    "    closest_indices = [np.argmin([np.linalg.norm(point - centroid) for point in points]) for centroid in centroids]\n",
    "\n",
    "    # Get the corresponding variables of the closest points\n",
    "    closest_points = normalized_df.iloc[closest_indices]\n",
    "\n",
    "    # Create a DataFrame with the closest points\n",
    "    closest_vector_df = pd.DataFrame(closest_points, columns=normalized_df.columns)\n",
    "\n",
    "    # Get the corresponding values of the closest SCF\n",
    "    closest_scf = original_df.iloc[:, 3].iloc[closest_indices]\n",
    "\n",
    "    # Create a DataFrame with the closest SCF\n",
    "    closest_scf_df = closest_scf.to_frame()\n",
    "\n",
    "    # Call the regression model function\n",
    "    error = regression_model(closest_vector_df, closest_scf_df, num_clusters)\n",
    "\n",
    "    # Calculate the Mean Absolute Error (MAE)\n",
    "    mae = np.abs(error).mean()\n",
    "\n",
    "    # Calculate the Mean Squared Error (MSE)\n",
    "    mse = np.square(error).mean()\n",
    "\n",
    "    # Append the cluster value, MAE, and MSE to the respective lists\n",
    "    cluster_values.append(num_clusters)\n",
    "    mae_values.append(mae)\n",
    "    mse_values.append(mse)\n"
   ]
  },
  {
   "cell_type": "code",
   "execution_count": 17,
   "metadata": {},
   "outputs": [
    {
     "data": {
      "image/png": "[encoded data removed]",
      "text/plain": [
       "<Figure size 640x480 with 1 Axes>"
      ]
     },
     "metadata": {},
     "output_type": "display_data"
    }
   ],
   "source": [
    "# Plotting the MAE and MSE values\n",
    "plt.plot(cluster_values, mae_values, label='MAE')\n",
    "plt.plot(cluster_values, mse_values, label='MSE')\n",
    "plt.xlabel('Number of Clusters')\n",
    "plt.ylabel('Error (Rydberg)')\n",
    "plt.title('MAE and MSE vs. Number of Clusters')\n",
    "plt.legend()\n",
    "plt.show()\n"
   ]
  }
 ],
 "metadata": {
  "kernelspec": {
   "display_name": ".venv",
   "language": "python",
   "name": "python3"
  },
  "language_info": {
   "codemirror_mode": {
    "name": "ipython",
    "version": 3
   },
   "file_extension": ".py",
   "mimetype": "text/x-python",
   "name": "python",
   "nbconvert_exporter": "python",
   "pygments_lexer": "ipython3",
   "version": "3.10.5 (v3.10.5:f377153967, Jun  6 2022, 12:36:10) [Clang 13.0.0 (clang-1300.0.29.30)]"
  },
  "orig_nbformat": 4,
  "vscode": {
   "interpreter": {
    "hash": "04c0dd1a90273e90ffd20b535a252122077e4f6e72cb7d78e3d723cf48786094"
   }
  }
 },
 "nbformat": 4,
 "nbformat_minor": 2
}
