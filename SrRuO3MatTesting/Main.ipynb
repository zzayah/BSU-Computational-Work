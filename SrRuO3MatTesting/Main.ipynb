{
 "cells": [
  {
   "cell_type": "code",
   "execution_count": 7,
   "metadata": {},
   "outputs": [],
   "source": [
    "from ase import io\n",
    "from ase.visualize import view\n",
    "from ase.build import make_supercell"
   ]
  },
  {
   "cell_type": "code",
   "execution_count": 24,
   "metadata": {},
   "outputs": [],
   "source": [
    "# A Site\n",
    "from ase import Atoms\n",
    "from ase.build import molecule\n",
    "from ase.build import add_adsorbate\n",
    "\n",
    "ASiteUpCif = 'SrTiO3ASiteUp.cif'\n",
    "ASiteUp = io.read(ASiteUpCif)\n",
    "\n",
    "water = molecule('H2O')\n",
    "\n",
    "water.rotate(180, 'x')\n",
    "\n",
    "add_adsorbate(ASiteUp, water, 6, (7.8254/2, 7.8254/2))\n",
    "\n",
    "#create a xyz file of ASiteUp called \"waterRep.xyz\"\n",
    "io.write('waterRep.pdb', ASiteUp)\n",
    "# view(ASiteUp, viewer='x3d')"
   ]
  },
  {
   "cell_type": "code",
   "execution_count": null,
   "metadata": {},
   "outputs": [],
   "source": [
    "# B Site\n",
    "\n",
    "BSiteUpCif = 'SrRuO3BSiteUp.cif'\n",
    "BSiteUp = io.read(BSiteUpCif)\n",
    "BSiteUp.center(vacuum=10, axis=2)\n",
    "view(BSiteUp)"
   ]
  },
  {
   "cell_type": "code",
   "execution_count": null,
   "metadata": {},
   "outputs": [],
   "source": [
    "# import write from ase\n",
    "from ase.io import write\n",
    "\n",
    "write('SrRuO3ASiteUp.xyz', ASiteUp)"
   ]
  },
  {
   "cell_type": "code",
   "execution_count": null,
   "metadata": {},
   "outputs": [],
   "source": [
    "from ase.io import read, write\n",
    "\n",
    "# Read the XYZ file\n",
    "atoms = read(\"SrTiO3ASiteUp.xyz\")\n",
    "\n",
    "# Write the PLB file\n",
    "write(\"SrTiO3ASiteUp.pdb\", atoms)\n"
   ]
  },
  {
   "cell_type": "code",
   "execution_count": null,
   "metadata": {},
   "outputs": [],
   "source": []
  }
 ],
 "metadata": {
  "kernelspec": {
   "display_name": ".venv",
   "language": "python",
   "name": "python3"
  },
  "language_info": {
   "codemirror_mode": {
    "name": "ipython",
    "version": 3
   },
   "file_extension": ".py",
   "mimetype": "text/x-python",
   "name": "python",
   "nbconvert_exporter": "python",
   "pygments_lexer": "ipython3",
   "version": "3.10.4"
  },
  "orig_nbformat": 4
 },
 "nbformat": 4,
 "nbformat_minor": 2
}
