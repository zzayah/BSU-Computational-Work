{
 "cells": [
  {
   "cell_type": "code",
   "execution_count": 1,
   "metadata": {},
   "outputs": [],
   "source": [
    "import numpy as np\n",
    "import pandas as pd\n",
    "from sklearn.linear_model import LinearRegression\n",
    "from sklearn.preprocessing import PolynomialFeatures\n",
    "from sklearn.model_selection import train_test_split\n",
    "from sklearn.metrics import mean_squared_error, r2_score\n",
    "import matplotlib.pyplot as plt"
   ]
  },
  {
   "cell_type": "code",
   "execution_count": null,
   "metadata": {},
   "outputs": [],
   "source": [
    "# Import csv of DFT calcuations at chosen coordinates\n",
    "df = pd.read_csv('data/DFTcenteroidCalc.csv')"
   ]
  },
  {
   "cell_type": "code",
   "execution_count": null,
   "metadata": {},
   "outputs": [],
   "source": [
    "def perform_Regression(df, degree):\n",
    "    \n",
    "\n",
    "    # Split data into training and test sets\n",
    "    X = df[['x', 'y', 'z']]\n",
    "    y = df['E']\n",
    "    X_train, X_test, y_train, y_test = train_test_split(X, y, test_size=0.2, random_state=42)\n",
    "\n",
    "    # Create polynomial features\n",
    "    poly = PolynomialFeatures(degree=degree)\n",
    "    X_train_poly = poly.fit_transform(X_train)\n",
    "    X_test_poly = poly.fit_transform(X_test)\n",
    "\n",
    "    # Create linear regression object\n",
    "    linreg = LinearRegression()\n",
    "\n",
    "    # Train the model using the training sets\n",
    "    linreg.fit(X_train_poly, y_train)\n",
    "\n",
    "    # Make predictions using the testing set\n",
    "    y_pred = linreg.predict(X_test_poly)\n",
    "\n",
    "    # The coefficients\n",
    "    print('Coefficients: \\n', linreg.coef_)\n",
    "    # The mean squared error\n",
    "    print('Mean squared error: %.2f'\n",
    "        % mean_squared_error(y_test, y_pred))\n",
    "    # The coefficient of determination: 1 is perfect prediction\n",
    "    print('Coefficient of determination: %.2f'\n",
    "        % r2_score(y_test, y_pred))\n",
    "\n",
    "    # Plot outputs\n",
    "    plt.scatter(y_test, y_pred,  color='black')\n",
    "    plt.plot(y_test, y_test, color='blue', linewidth=3)\n",
    "    plt.xlabel('Actual Energy')\n",
    "    plt.ylabel('Predicted Energy')\n",
    "    plt.title('Actual vs. Predicted Energy')\n",
    "    plt.show()"
   ]
  }
 ],
 "metadata": {
  "kernelspec": {
   "display_name": ".venv",
   "language": "python",
   "name": "python3"
  },
  "language_info": {
   "codemirror_mode": {
    "name": "ipython",
    "version": 3
   },
   "file_extension": ".py",
   "mimetype": "text/x-python",
   "name": "python",
   "nbconvert_exporter": "python",
   "pygments_lexer": "ipython3",
   "version": "3.11.3"
  },
  "orig_nbformat": 4
 },
 "nbformat": 4,
 "nbformat_minor": 2
}
